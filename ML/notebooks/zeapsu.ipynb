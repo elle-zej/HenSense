{
 "cells": [
  {
   "cell_type": "markdown",
   "id": "initial_id",
   "metadata": {
    "collapsed": true
   },
   "source": [
    "# Imports"
   ]
  },
  {
   "cell_type": "code",
   "execution_count": 5,
   "id": "8072782a",
   "metadata": {},
   "outputs": [],
   "source": [
    "# %pip install inference-sdk \n",
    "import os \n",
    "import tensorflow as tf\n",
    "import numpy as np\n",
    "from inference_sdk import InferenceHTTPClient\n"
   ]
  },
  {
   "cell_type": "markdown",
   "id": "5da1f4ef",
   "metadata": {},
   "source": [
    "Set up API that will interface with the model"
   ]
  },
  {
   "cell_type": "code",
   "execution_count": 20,
   "id": "14b10232",
   "metadata": {},
   "outputs": [
    {
     "name": "stdout",
     "output_type": "stream",
     "text": [
      "TYPE <class 'numpy.ndarray'> : SHAPE (1234, 1360, 3)\n"
     ]
    },
    {
     "data": {
      "text/plain": [
       "{'inference_id': 'f2c1bc2b-21d4-4fbb-b7cc-b4a49b7722bd',\n",
       " 'time': 0.06378528300047037,\n",
       " 'image': {'width': 1360, 'height': 1234},\n",
       " 'predictions': [{'x': 191.0,\n",
       "   'y': 178.0,\n",
       "   'width': 382.0,\n",
       "   'height': 356.0,\n",
       "   'confidence': 0.6060412526130676,\n",
       "   'class': 'chicken',\n",
       "   'class_id': 0,\n",
       "   'detection_id': 'd220ec43-f627-43d9-b21a-e40ff36ebbd5'}]}"
      ]
     },
     "execution_count": 20,
     "metadata": {},
     "output_type": "execute_result"
    }
   ],
   "source": [
    "from dotenv import load_dotenv\n",
    "load_dotenv()\n",
    "\n",
    "API_KEY = os.getenv(\"ROBO_API_KEY\")\n",
    "\n",
    "CLIENT = InferenceHTTPClient(\n",
    "    api_url=\"https://detect.roboflow.com\",\n",
    "    api_key=API_KEY\n",
    ")\n",
    "\n",
    "# Read the image file\n",
    "chicken1 = tf.io.read_file('chicken1.jpg')\n",
    "\n",
    "# Decode the image to a numpy array\n",
    "chicken1 = tf.image.decode_jpeg(chicken1, channels=3).numpy()\n",
    "print(f'TYPE {type(chicken1)} : SHAPE {chicken1.shape}')\n",
    "\n",
    "result = CLIENT.infer(chicken1, model_id=\"healthy-and-sick-chicken-detection-kavqw/18\")\n",
    "result"
   ]
  },
  {
   "cell_type": "code",
   "execution_count": null,
   "id": "21403c33",
   "metadata": {},
   "outputs": [],
   "source": []
  },
  {
   "cell_type": "code",
   "execution_count": null,
   "id": "04559505",
   "metadata": {},
   "outputs": [],
   "source": []
  }
 ],
 "metadata": {
  "kernelspec": {
   "display_name": "base",
   "language": "python",
   "name": "python3"
  },
  "language_info": {
   "codemirror_mode": {
    "name": "ipython",
    "version": 2
   },
   "file_extension": ".py",
   "mimetype": "text/x-python",
   "name": "python",
   "nbconvert_exporter": "python",
   "pygments_lexer": "ipython2",
   "version": "3.12.2"
  }
 },
 "nbformat": 4,
 "nbformat_minor": 5
}
