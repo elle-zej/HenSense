{
 "cells": [
  {
   "cell_type": "code",
   "execution_count": 1,
   "metadata": {},
   "outputs": [
    {
     "name": "stderr",
     "output_type": "stream",
     "text": [
      "2025-03-01 19:30:28.423 python[15748:447123] +[IMKClient subclass]: chose IMKClient_Modern\n",
      "2025-03-01 19:30:28.423 python[15748:447123] +[IMKInputSession subclass]: chose IMKInputSession_Modern\n"
     ]
    },
    {
     "name": "stdout",
     "output_type": "stream",
     "text": [
      "WEEKLY READINGS\n",
      "DAILY READINGS\n"
     ]
    },
    {
     "data": {
      "text/plain": [
       "<__main__.Test at 0x110d0a690>"
      ]
     },
     "execution_count": 1,
     "metadata": {},
     "output_type": "execute_result"
    }
   ],
   "source": [
    "from tkinter import *\n",
    "\n",
    "class Test: \n",
    "    def __init__(self):\n",
    "        window = Tk()\n",
    "        window.title(\"HenSense\")\n",
    "\n",
    "        button1 = Button(window, text = \"View Health Metrics\", command = self.processMetrics)\n",
    "        button2 = Button(window, text = \"Check Status of Houses\", command = self.processHouseStatus)\n",
    "        \n",
    "        button1.pack()\n",
    "        button2.pack()\n",
    "\n",
    "        window.mainloop()\n",
    "    \n",
    "    def processMetrics(self):\n",
    "        window = Tk()\n",
    "        button1 = Button(window, text = \"View Daily Readings\", command = self.processDaily)\n",
    "        button2 = Button(window, text = \"View Weekly Readings\", command = self.processWeekly)\n",
    "        button3 = Button(window, text = \"CLOSE\", command = window.destroy)\n",
    "\n",
    "        button1.pack()\n",
    "        button2.pack()\n",
    "        button3.pack()\n",
    "\n",
    "        window.mainloop()\n",
    "    \n",
    "    def processHouseStatus(self):\n",
    "        window = Tk()\n",
    "        button1 = Button(window, text = \"House 1\", command = self.processHouseOne)\n",
    "        button2 = Button(window, text = \"House 2\", command = self.processHouseTwo)\n",
    "        button3 = Button(window, text = \"House 3\", command = self.processHouseThree)\n",
    "        button4 = Button(window, text = \"CLOSE\", command = window.destroy)\n",
    "\n",
    "        button1.pack()\n",
    "        button2.pack()\n",
    "        button3.pack()\n",
    "        button4.pack()\n",
    "\n",
    "        window.mainloop()\n",
    "    \n",
    "    def processDaily(self):\n",
    "        print(\"DAILY READINGS\")\n",
    "    \n",
    "    def processWeekly(self):\n",
    "        print(\"WEEKLY READINGS\")\n",
    "    \n",
    "    def processHouseOne(self):\n",
    "        print(\"HOUSE ONE\")\n",
    "    \n",
    "    def processHouseTwo(self):\n",
    "        print(\"HOUSE TWO\")\n",
    "    \n",
    "    def processHouseThree(self):\n",
    "        print(\"HOUSE THREE\")\n",
    "\n",
    "Test()"
   ]
  }
 ],
 "metadata": {
  "kernelspec": {
   "display_name": "base",
   "language": "python",
   "name": "python3"
  },
  "language_info": {
   "codemirror_mode": {
    "name": "ipython",
    "version": 3
   },
   "file_extension": ".py",
   "mimetype": "text/x-python",
   "name": "python",
   "nbconvert_exporter": "python",
   "pygments_lexer": "ipython3",
   "version": "3.12.4"
  }
 },
 "nbformat": 4,
 "nbformat_minor": 2
}
